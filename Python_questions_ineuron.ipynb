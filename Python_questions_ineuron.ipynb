{
 "cells": [
  {
   "cell_type": "markdown",
   "id": "891d9dee-864c-4ddb-ae39-3d34f8565dd9",
   "metadata": {},
   "source": [
    "## Important Questions "
   ]
  },
  {
   "cell_type": "markdown",
   "id": "2423ecb8-a831-4979-8563-a070e769b2a1",
   "metadata": {},
   "source": [
    "### 1. Convert the given strings to list "
   ]
  },
  {
   "cell_type": "code",
   "execution_count": 3,
   "id": "a499d57e-6e73-42de-a009-0f644e5c1651",
   "metadata": {},
   "outputs": [],
   "source": [
    "string = \"my name is subham. I am in 2nd year\""
   ]
  },
  {
   "cell_type": "code",
   "execution_count": 5,
   "id": "debd555a-dc43-4b72-8e1c-d6b96b92b7d2",
   "metadata": {},
   "outputs": [
    {
     "data": {
      "text/plain": [
       "['m',\n",
       " 'y',\n",
       " ' ',\n",
       " 'n',\n",
       " 'a',\n",
       " 'm',\n",
       " 'e',\n",
       " ' ',\n",
       " 'i',\n",
       " 's',\n",
       " ' ',\n",
       " 's',\n",
       " 'u',\n",
       " 'b',\n",
       " 'h',\n",
       " 'a',\n",
       " 'm',\n",
       " '.',\n",
       " ' ',\n",
       " 'I',\n",
       " ' ',\n",
       " 'a',\n",
       " 'm',\n",
       " ' ',\n",
       " 'i',\n",
       " 'n',\n",
       " ' ',\n",
       " '2',\n",
       " 'n',\n",
       " 'd',\n",
       " ' ',\n",
       " 'y',\n",
       " 'e',\n",
       " 'a',\n",
       " 'r']"
      ]
     },
     "execution_count": 5,
     "metadata": {},
     "output_type": "execute_result"
    }
   ],
   "source": [
    "list(string) # bad approach "
   ]
  },
  {
   "cell_type": "code",
   "execution_count": 9,
   "id": "af95dfb2-9b40-491d-ac48-330d7410dad6",
   "metadata": {},
   "outputs": [
    {
     "data": {
      "text/plain": [
       "['m',\n",
       " 'y',\n",
       " ' ',\n",
       " 'n',\n",
       " 'a',\n",
       " 'm',\n",
       " 'e',\n",
       " ' ',\n",
       " 'i',\n",
       " 's',\n",
       " ' ',\n",
       " 's',\n",
       " 'u',\n",
       " 'b',\n",
       " 'h',\n",
       " 'a',\n",
       " 'm',\n",
       " '.',\n",
       " ' ',\n",
       " 'I',\n",
       " ' ',\n",
       " 'a',\n",
       " 'm',\n",
       " ' ',\n",
       " 'i',\n",
       " 'n',\n",
       " ' ',\n",
       " '2',\n",
       " 'n',\n",
       " 'd',\n",
       " ' ',\n",
       " 'y',\n",
       " 'e',\n",
       " 'a',\n",
       " 'r']"
      ]
     },
     "execution_count": 9,
     "metadata": {},
     "output_type": "execute_result"
    }
   ],
   "source": [
    "[i for i in string] # bad approach"
   ]
  },
  {
   "cell_type": "code",
   "execution_count": 11,
   "id": "9d137044-7faa-4d57-abf7-bae675d230e5",
   "metadata": {},
   "outputs": [
    {
     "data": {
      "text/plain": [
       "['my', 'name', 'is', 'subham.', 'I', 'am', 'in', '2nd', 'year']"
      ]
     },
     "execution_count": 11,
     "metadata": {},
     "output_type": "execute_result"
    }
   ],
   "source": [
    "string.split() # correct approach "
   ]
  },
  {
   "cell_type": "markdown",
   "id": "bb2d5c95-4c6b-4d45-baa7-7bf426723d28",
   "metadata": {},
   "source": [
    "### 2. Remove Duplicates from Given String "
   ]
  },
  {
   "cell_type": "code",
   "execution_count": 14,
   "id": "d9cd5673-142a-4c63-8a66-58b85ef81208",
   "metadata": {},
   "outputs": [
    {
     "data": {
      "text/plain": [
       "'my name is subham. I am in 2nd year'"
      ]
     },
     "execution_count": 14,
     "metadata": {},
     "output_type": "execute_result"
    }
   ],
   "source": [
    "string"
   ]
  },
  {
   "cell_type": "code",
   "execution_count": 16,
   "id": "8bf218c9-8498-4197-bd00-b346c32e478f",
   "metadata": {},
   "outputs": [],
   "source": [
    "empty_string = ''"
   ]
  },
  {
   "cell_type": "code",
   "execution_count": 17,
   "id": "5f9de972-f831-4257-9291-eb5e6744118b",
   "metadata": {},
   "outputs": [
    {
     "data": {
      "text/plain": [
       "''"
      ]
     },
     "execution_count": 17,
     "metadata": {},
     "output_type": "execute_result"
    }
   ],
   "source": [
    "empty_string"
   ]
  },
  {
   "cell_type": "code",
   "execution_count": 21,
   "id": "69e34fdc-6045-484c-9d21-88d019911c82",
   "metadata": {},
   "outputs": [
    {
     "name": "stdout",
     "output_type": "stream",
     "text": [
      "my naeisubh.I2dr\n"
     ]
    }
   ],
   "source": [
    "for char in string:\n",
    "    if char not in empty_string:\n",
    "        empty_string = empty_string + char\n",
    "print(empty_string)  #It will remove all the duplicated characters "
   ]
  },
  {
   "cell_type": "markdown",
   "id": "35cc523a-8e42-47c0-9c8e-e4eda0f9b238",
   "metadata": {},
   "source": [
    "### 3. Reverse the Given String"
   ]
  },
  {
   "cell_type": "code",
   "execution_count": 22,
   "id": "ad18b616-c1f9-468b-b535-dbff58ed94a3",
   "metadata": {},
   "outputs": [],
   "source": [
    "string = \"ineuron intelligence\""
   ]
  },
  {
   "cell_type": "code",
   "execution_count": 25,
   "id": "61e512cc-b55a-460a-9bcb-72e0e64759f2",
   "metadata": {},
   "outputs": [
    {
     "data": {
      "text/plain": [
       "'ecnegilletni norueni'"
      ]
     },
     "execution_count": 25,
     "metadata": {},
     "output_type": "execute_result"
    }
   ],
   "source": [
    "string[::-1] # using slicing "
   ]
  },
  {
   "cell_type": "code",
   "execution_count": 26,
   "id": "f87319a3-699f-4a66-8fbb-19f19ddd3ff3",
   "metadata": {},
   "outputs": [],
   "source": [
    "empty_str = ''"
   ]
  },
  {
   "cell_type": "code",
   "execution_count": 32,
   "id": "63578314-78bf-450b-85c2-3ec7ecb12f3c",
   "metadata": {},
   "outputs": [],
   "source": [
    "for char in string:\n",
    "    empty_str = char + empty_str  ## character by character we are appending "
   ]
  },
  {
   "cell_type": "code",
   "execution_count": 31,
   "id": "a62cd092-18cf-41cc-b0b6-11419afc5720",
   "metadata": {},
   "outputs": [
    {
     "data": {
      "text/plain": [
       "'ecnegilletni norueni'"
      ]
     },
     "execution_count": 31,
     "metadata": {},
     "output_type": "execute_result"
    }
   ],
   "source": [
    "empty_str"
   ]
  },
  {
   "cell_type": "markdown",
   "id": "675dab41-afcd-4410-95ee-95220ac7d050",
   "metadata": {},
   "source": [
    "### 4. How to create array in python"
   ]
  },
  {
   "cell_type": "code",
   "execution_count": 35,
   "id": "4932a5c6-d040-4ae0-9b7f-e3ba57c7d0f5",
   "metadata": {},
   "outputs": [
    {
     "data": {
      "text/plain": [
       "numpy.ndarray"
      ]
     },
     "execution_count": 35,
     "metadata": {},
     "output_type": "execute_result"
    }
   ],
   "source": [
    "# using numpy \n",
    "import numpy as np\n",
    "type(np.array([1,2,3,4,5]))"
   ]
  },
  {
   "cell_type": "markdown",
   "id": "3c8ca248-64dc-4c4b-b611-f2be67eb877d",
   "metadata": {},
   "source": [
    "### How to reverse the array?"
   ]
  },
  {
   "cell_type": "code",
   "execution_count": 42,
   "id": "b7412ad5-2264-4224-b93d-3f0187e893cb",
   "metadata": {},
   "outputs": [
    {
     "data": {
      "text/plain": [
       "array([5, 4, 3, 2, 1])"
      ]
     },
     "execution_count": 42,
     "metadata": {},
     "output_type": "execute_result"
    }
   ],
   "source": [
    "arr = np.array([1,2,3,4,5])\n",
    "arr[::-1] # using reverse indexing "
   ]
  },
  {
   "cell_type": "markdown",
   "id": "cd791dd7-794c-4974-a43b-800afa00b095",
   "metadata": {},
   "source": [
    "### 5. Sort the given list "
   ]
  },
  {
   "cell_type": "code",
   "execution_count": 50,
   "id": "f2addd68-fd47-43aa-85c9-33de8a9658de",
   "metadata": {},
   "outputs": [],
   "source": [
    "my_list = [64, 34, 25, 12, 22, 11, 98]"
   ]
  },
  {
   "cell_type": "code",
   "execution_count": 51,
   "id": "e36a3c47-2bc4-457c-9452-ef0dc7e5e87c",
   "metadata": {},
   "outputs": [],
   "source": [
    "#my_list.sort() # not a good approach. Don't use inbuilt sort method "
   ]
  },
  {
   "cell_type": "code",
   "execution_count": 52,
   "id": "8144d39f-2854-4827-b4ee-c6a910cad993",
   "metadata": {},
   "outputs": [
    {
     "data": {
      "text/plain": [
       "[64, 34, 25, 12, 22, 11, 98]"
      ]
     },
     "execution_count": 52,
     "metadata": {},
     "output_type": "execute_result"
    }
   ],
   "source": [
    "my_list"
   ]
  },
  {
   "cell_type": "code",
   "execution_count": 87,
   "id": "f5ace16a-b600-4448-a114-228acb194283",
   "metadata": {},
   "outputs": [],
   "source": [
    "# creating a function for bubble sort \n",
    "def bubble_sort(my_lst):\n",
    "    n = len(my_lst)\n",
    "\n",
    "    for i in range(n):\n",
    "        for j in range(0, n-i-1):\n",
    "            if my_lst[j] > my_lst[j+1]:\n",
    "                my_lst[j],my_lst[j+1] = my_lst[j+1], my_lst[j]\n",
    "    return my_lst"
   ]
  },
  {
   "cell_type": "code",
   "execution_count": 88,
   "id": "3459e278-f5f2-497e-82b0-a2929f984ecb",
   "metadata": {},
   "outputs": [
    {
     "name": "stdout",
     "output_type": "stream",
     "text": [
      "my original list [64, 34, 25, 12, 22, 11, 98]\n",
      "my sorted list [11, 12, 22, 25, 34, 64, 98]\n"
     ]
    }
   ],
   "source": [
    "print(f'my original list {my_list}')\n",
    "my_lst = bubble_sort(my_list)\n",
    "print(f'my sorted list {my_lst}')"
   ]
  },
  {
   "cell_type": "markdown",
   "id": "083d3121-8075-4dda-bb64-f47ad57d76f9",
   "metadata": {},
   "source": [
    "### What is the time complexity of the above code? \n",
    "\n",
    "### Ans: O(n^2)"
   ]
  },
  {
   "cell_type": "markdown",
   "id": "2d291471-08f5-4f8a-89d6-0bdc2b421d5e",
   "metadata": {},
   "source": [
    "### 6. Give example of mutability and immutability in python?"
   ]
  },
  {
   "cell_type": "code",
   "execution_count": 89,
   "id": "6d46df92-c8b3-48b7-aed6-5b1c2be9ff6c",
   "metadata": {},
   "outputs": [],
   "source": [
    "My_list = [1,2,3,4,5]"
   ]
  },
  {
   "cell_type": "code",
   "execution_count": 93,
   "id": "fa5759f4-b974-40ab-bb09-894b72eb691c",
   "metadata": {},
   "outputs": [
    {
     "data": {
      "text/plain": [
       "[1, 10, 3, 4, 5]"
      ]
     },
     "execution_count": 93,
     "metadata": {},
     "output_type": "execute_result"
    }
   ],
   "source": [
    "My_list ## list is mutable "
   ]
  },
  {
   "cell_type": "code",
   "execution_count": 92,
   "id": "53789cb0-fa95-4c96-8a10-ac81e8380a41",
   "metadata": {},
   "outputs": [],
   "source": [
    "My_list[1] = 10"
   ]
  },
  {
   "cell_type": "code",
   "execution_count": 94,
   "id": "41a956ca-2422-454f-9284-eed117134c73",
   "metadata": {},
   "outputs": [],
   "source": [
    "String = \"Hellow\""
   ]
  },
  {
   "cell_type": "code",
   "execution_count": 99,
   "id": "d5e507e2-9fed-4eb8-8e62-8ad4f3c347d1",
   "metadata": {},
   "outputs": [
    {
     "ename": "TypeError",
     "evalue": "'str' object does not support item assignment",
     "output_type": "error",
     "traceback": [
      "\u001b[1;31m---------------------------------------------------------------------------\u001b[0m",
      "\u001b[1;31mTypeError\u001b[0m                                 Traceback (most recent call last)",
      "Cell \u001b[1;32mIn[99], line 1\u001b[0m\n\u001b[1;32m----> 1\u001b[0m String[\u001b[38;5;241m1\u001b[39m] \u001b[38;5;241m=\u001b[39m \u001b[38;5;124m'\u001b[39m\u001b[38;5;124mp\u001b[39m\u001b[38;5;124m'\u001b[39m\n",
      "\u001b[1;31mTypeError\u001b[0m: 'str' object does not support item assignment"
     ]
    }
   ],
   "source": [
    "String[1] = 'p' # string is immutable. So it can not be changed "
   ]
  },
  {
   "cell_type": "code",
   "execution_count": 100,
   "id": "90e48ecd-198f-46a9-81f1-ac4f3d53e08d",
   "metadata": {},
   "outputs": [],
   "source": [
    "my_tuple = (1,2,3,4,5)"
   ]
  },
  {
   "cell_type": "code",
   "execution_count": 102,
   "id": "06e0e132-549e-4613-93b9-64312fb22aaf",
   "metadata": {},
   "outputs": [
    {
     "ename": "TypeError",
     "evalue": "'tuple' object does not support item assignment",
     "output_type": "error",
     "traceback": [
      "\u001b[1;31m---------------------------------------------------------------------------\u001b[0m",
      "\u001b[1;31mTypeError\u001b[0m                                 Traceback (most recent call last)",
      "Cell \u001b[1;32mIn[102], line 1\u001b[0m\n\u001b[1;32m----> 1\u001b[0m my_tuple[\u001b[38;5;241m3\u001b[39m] \u001b[38;5;241m=\u001b[39m \u001b[38;5;241m100\u001b[39m\n",
      "\u001b[1;31mTypeError\u001b[0m: 'tuple' object does not support item assignment"
     ]
    }
   ],
   "source": [
    "my_tuple[3] = 100 # Similarly for tuple we can not change because tuple is immutable "
   ]
  },
  {
   "cell_type": "markdown",
   "id": "c0668ee7-5cdb-4501-89c5-6bcc7d6c20f7",
   "metadata": {},
   "source": [
    "### 7. How to concatenate two given lists? "
   ]
  },
  {
   "cell_type": "code",
   "execution_count": 1,
   "id": "99c8f41e-0b6f-4783-9430-d56b0bf97c59",
   "metadata": {},
   "outputs": [],
   "source": [
    "List_1 = [\"W\", \"a\", 'W', 'b']\n",
    "List_2 = ['e', \" \", 'riting', 'log']\n",
    "# expected output = ['We', 'a', 'Writing', 'blog']"
   ]
  },
  {
   "cell_type": "code",
   "execution_count": 11,
   "id": "392c04dc-cbe3-414d-9026-aefed10e600e",
   "metadata": {},
   "outputs": [
    {
     "name": "stdout",
     "output_type": "stream",
     "text": [
      "W e\n",
      "a  \n",
      "W riting\n",
      "b log\n"
     ]
    }
   ],
   "source": [
    "### Inbuild method\n",
    "\n",
    "for x,y in zip(List_1, List_2):\n",
    "    print(x,y)"
   ]
  },
  {
   "cell_type": "code",
   "execution_count": 9,
   "id": "68eeaf08-b6f7-43b7-881f-0b7693e1a844",
   "metadata": {},
   "outputs": [
    {
     "data": {
      "text/plain": [
       "['We', 'a ', 'Writing', 'blog']"
      ]
     },
     "execution_count": 9,
     "metadata": {},
     "output_type": "execute_result"
    }
   ],
   "source": [
    "[x+y for x,y in zip(List_1,List_2)]"
   ]
  },
  {
   "cell_type": "markdown",
   "id": "22cd8c5e-01d5-4f28-bb28-37140e9e537d",
   "metadata": {},
   "source": [
    "### 8. Is removing the first item or last item taking the same item in the python list? "
   ]
  },
  {
   "cell_type": "code",
   "execution_count": null,
   "id": "f036bc08-5ac2-42a1-903e-a26f7c55fc91",
   "metadata": {},
   "outputs": [],
   "source": []
  },
  {
   "cell_type": "markdown",
   "id": "70b36af6-a532-4d07-b6dc-f877815cc915",
   "metadata": {},
   "source": [
    "### 9. Find the minimum value in a given dictionary "
   ]
  },
  {
   "cell_type": "code",
   "execution_count": 23,
   "id": "e96ff25a-14cd-4076-9d6d-2db6dd33fe83",
   "metadata": {},
   "outputs": [],
   "source": [
    "my_dict = {'a':10, 'b':5, 'c':8, 'd': 3}"
   ]
  },
  {
   "cell_type": "code",
   "execution_count": 24,
   "id": "4eb014c6-393d-4b78-888d-73debcf46704",
   "metadata": {},
   "outputs": [
    {
     "data": {
      "text/plain": [
       "3"
      ]
     },
     "execution_count": 24,
     "metadata": {},
     "output_type": "execute_result"
    }
   ],
   "source": [
    "min(my_dict.values())"
   ]
  },
  {
   "cell_type": "code",
   "execution_count": 31,
   "id": "28dacb1d-18cf-454a-a00e-d03d7180f130",
   "metadata": {},
   "outputs": [],
   "source": [
    "# how to fetch both keys and values (minimum)"
   ]
  },
  {
   "cell_type": "code",
   "execution_count": 26,
   "id": "280ac589-5c9c-482f-966b-8b17048d8611",
   "metadata": {},
   "outputs": [],
   "source": [
    "min_key = None\n",
    "min_value = float('inf')"
   ]
  },
  {
   "cell_type": "code",
   "execution_count": 27,
   "id": "c122891c-eab3-4b96-bc0b-0efd8e6a27c1",
   "metadata": {},
   "outputs": [],
   "source": [
    "min_key"
   ]
  },
  {
   "cell_type": "code",
   "execution_count": 28,
   "id": "a5c2d7fe-5922-4163-882c-bd53d9a62eaa",
   "metadata": {},
   "outputs": [
    {
     "data": {
      "text/plain": [
       "inf"
      ]
     },
     "execution_count": 28,
     "metadata": {},
     "output_type": "execute_result"
    }
   ],
   "source": [
    "min_value"
   ]
  },
  {
   "cell_type": "code",
   "execution_count": 30,
   "id": "c022bf70-1443-4daf-87d0-29146a102e55",
   "metadata": {},
   "outputs": [
    {
     "name": "stdout",
     "output_type": "stream",
     "text": [
      "3\n",
      "a\n"
     ]
    }
   ],
   "source": [
    "for key, value in my_dict.items():\n",
    "    if value < min_value:\n",
    "        min_value = value\n",
    "        min_key = key\n",
    "    if key < min_key:\n",
    "        min_key = key\n",
    "print(min_value)\n",
    "print(min_key)"
   ]
  },
  {
   "cell_type": "markdown",
   "id": "8f712b6a-7957-4413-926a-d3f9b0a23f66",
   "metadata": {},
   "source": [
    "### 10. How to shuffle the elements inside the given list "
   ]
  },
  {
   "cell_type": "code",
   "execution_count": 33,
   "id": "aec920bd-4a26-4714-a30b-037961072a9c",
   "metadata": {},
   "outputs": [],
   "source": [
    "lst = ['Subham', 'is ', 'good', 'boy']"
   ]
  },
  {
   "cell_type": "code",
   "execution_count": 34,
   "id": "c0f62a8c-1f10-4f40-9038-5a4202d8e709",
   "metadata": {},
   "outputs": [
    {
     "data": {
      "text/plain": [
       "{'Subham', 'boy', 'good', 'is '}"
      ]
     },
     "execution_count": 34,
     "metadata": {},
     "output_type": "execute_result"
    }
   ],
   "source": [
    "set(lst)"
   ]
  },
  {
   "cell_type": "code",
   "execution_count": 41,
   "id": "5f1a8c6e-35e2-4bc0-8908-129026f86fb1",
   "metadata": {},
   "outputs": [],
   "source": [
    "import random \n",
    "random.shuffle(lst)"
   ]
  },
  {
   "cell_type": "code",
   "execution_count": 42,
   "id": "d56c382e-7919-42b8-8ba8-f88ccc59210c",
   "metadata": {},
   "outputs": [
    {
     "data": {
      "text/plain": [
       "['Subham', 'is ', 'good', 'boy']"
      ]
     },
     "execution_count": 42,
     "metadata": {},
     "output_type": "execute_result"
    }
   ],
   "source": [
    "lst"
   ]
  },
  {
   "cell_type": "markdown",
   "id": "aef4e4cb-e257-46e0-b08a-387ecd2cec3c",
   "metadata": {},
   "source": [
    "### 11. Remove all the white spaces in a string "
   ]
  },
  {
   "cell_type": "code",
   "execution_count": 43,
   "id": "6f3d7493-72e5-42d9-adde-c269bf589234",
   "metadata": {},
   "outputs": [],
   "source": [
    "string = \"C O D E\""
   ]
  },
  {
   "cell_type": "code",
   "execution_count": 46,
   "id": "840747ec-ce41-4fce-9d98-f66a82391bda",
   "metadata": {},
   "outputs": [
    {
     "data": {
      "text/plain": [
       "'CODE'"
      ]
     },
     "execution_count": 46,
     "metadata": {},
     "output_type": "execute_result"
    }
   ],
   "source": [
    "string.replace(\" \", \"\")"
   ]
  },
  {
   "cell_type": "markdown",
   "id": "1dde0ad9-343e-459e-b849-89446401d070",
   "metadata": {},
   "source": [
    "### 12. Write a program to find the second largest number in the given list"
   ]
  },
  {
   "cell_type": "code",
   "execution_count": 53,
   "id": "a639a6e8-f844-41c7-b48e-b1f3c41cb0d4",
   "metadata": {},
   "outputs": [
    {
     "data": {
      "text/plain": [
       "[64, 34, 25, 12, 22, 11, 98]"
      ]
     },
     "execution_count": 53,
     "metadata": {},
     "output_type": "execute_result"
    }
   ],
   "source": [
    "my_list "
   ]
  },
  {
   "cell_type": "code",
   "execution_count": 54,
   "id": "daf099ce-095b-412c-894a-633b38b1ebdc",
   "metadata": {},
   "outputs": [],
   "source": [
    "my_list.sort()"
   ]
  },
  {
   "cell_type": "code",
   "execution_count": 55,
   "id": "970e2263-93fa-4018-a817-b3d7270bd94b",
   "metadata": {},
   "outputs": [
    {
     "data": {
      "text/plain": [
       "64"
      ]
     },
     "execution_count": 55,
     "metadata": {},
     "output_type": "execute_result"
    }
   ],
   "source": [
    "my_list[-2]"
   ]
  },
  {
   "cell_type": "markdown",
   "id": "afb972be-d264-45d1-96f0-6eeb92e34a38",
   "metadata": {},
   "source": [
    "### 13. Factorial with recursion "
   ]
  },
  {
   "cell_type": "code",
   "execution_count": 56,
   "id": "e26815f1-837b-41df-98c1-65b0ffea404e",
   "metadata": {},
   "outputs": [],
   "source": [
    "def factorial(n):\n",
    "    if n == 1 or n==0:\n",
    "        return 1\n",
    "    else:\n",
    "        return n*factorial(n-1)\n"
   ]
  },
  {
   "cell_type": "code",
   "execution_count": 58,
   "id": "32aa0ba0-1df3-4f5a-b920-484b89d6032b",
   "metadata": {},
   "outputs": [
    {
     "data": {
      "text/plain": [
       "3628800"
      ]
     },
     "execution_count": 58,
     "metadata": {},
     "output_type": "execute_result"
    }
   ],
   "source": [
    "factorial(10)"
   ]
  },
  {
   "cell_type": "code",
   "execution_count": 59,
   "id": "75899f20-2160-4040-8996-ad1de43fb927",
   "metadata": {},
   "outputs": [
    {
     "data": {
      "text/plain": [
       "8320987112741390144276341183223364380754172606361245952449277696409600000000000000"
      ]
     },
     "execution_count": 59,
     "metadata": {},
     "output_type": "execute_result"
    }
   ],
   "source": [
    "factorial(60)"
   ]
  },
  {
   "cell_type": "markdown",
   "id": "6ffa6c1a-0574-434f-98b9-68307c8c3a3a",
   "metadata": {},
   "source": [
    "### 14. Fibonacci Series"
   ]
  },
  {
   "cell_type": "code",
   "execution_count": 4,
   "id": "5ca9ac5e-997c-4cac-9ac4-f144d033da8b",
   "metadata": {},
   "outputs": [],
   "source": [
    "n = 10\n",
    "num_1 = 0\n",
    "num_2 = 1\n",
    "next_number = num_2\n",
    "count = 1"
   ]
  },
  {
   "cell_type": "code",
   "execution_count": 5,
   "id": "991d800f-fe1f-4a3f-9c7b-dc1f8f39c957",
   "metadata": {},
   "outputs": [
    {
     "name": "stdout",
     "output_type": "stream",
     "text": [
      "1 2 3 5 8 13 21 34 55 89 \n"
     ]
    }
   ],
   "source": [
    "while count<=n:\n",
    "    print(next_number,end=' ')\n",
    "    count = count+1\n",
    "    num_1,num_2 = num_2, next_number\n",
    "    next_number = num_1 + num_2\n",
    "print()"
   ]
  },
  {
   "cell_type": "markdown",
   "id": "5c813e10-46c1-46eb-8d37-7915ea44a861",
   "metadata": {},
   "source": [
    "### 15. Palindrome series\n"
   ]
  },
  {
   "cell_type": "code",
   "execution_count": 6,
   "id": "a216314e-3fc6-434f-b567-cccb6e67cf82",
   "metadata": {},
   "outputs": [
    {
     "name": "stdout",
     "output_type": "stream",
     "text": [
      "Yes\n"
     ]
    }
   ],
   "source": [
    "def isPalindrome(s):\n",
    "    return s == s[::-1]\n",
    "\n",
    "\n",
    "# Driver code\n",
    "s = \"malayalam\"\n",
    "ans = isPalindrome(s)\n",
    "\n",
    "if ans:\n",
    "    print(\"Yes\")\n",
    "else:\n",
    "    print(\"No\")"
   ]
  },
  {
   "cell_type": "code",
   "execution_count": 7,
   "id": "307eb5ba-42c0-4faa-afa9-16c10fbbdfa3",
   "metadata": {},
   "outputs": [
    {
     "name": "stdout",
     "output_type": "stream",
     "text": [
      "No\n"
     ]
    }
   ],
   "source": [
    "def isPalindrome(s):\n",
    "    return s == s[::-1]\n",
    "\n",
    "\n",
    "# Driver code\n",
    "s = \"subham\"\n",
    "ans = isPalindrome(s)\n",
    "\n",
    "if ans:\n",
    "    print(\"Yes\")\n",
    "else:\n",
    "    print(\"No\")"
   ]
  },
  {
   "cell_type": "code",
   "execution_count": null,
   "id": "61bb632d-687c-4b71-9f14-b12441ad1086",
   "metadata": {},
   "outputs": [],
   "source": []
  }
 ],
 "metadata": {
  "kernelspec": {
   "display_name": "Python 3 (ipykernel)",
   "language": "python",
   "name": "python3"
  },
  "language_info": {
   "codemirror_mode": {
    "name": "ipython",
    "version": 3
   },
   "file_extension": ".py",
   "mimetype": "text/x-python",
   "name": "python",
   "nbconvert_exporter": "python",
   "pygments_lexer": "ipython3",
   "version": "3.11.7"
  }
 },
 "nbformat": 4,
 "nbformat_minor": 5
}
